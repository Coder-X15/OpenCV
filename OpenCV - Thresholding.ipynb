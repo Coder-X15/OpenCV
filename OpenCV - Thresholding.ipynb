{
 "cells": [
  {
   "cell_type": "code",
   "execution_count": 5,
   "metadata": {},
   "outputs": [],
   "source": [
    "import cv2\n",
    "import numpy as np\n",
    "\n",
    "\n",
    "img = cv2.imread('bookpage.jpg')  # load low-light-image\n",
    "retval, threshold = cv2.threshold(img, 12, 255, cv2.THRESH_BINARY)  # anything below 12 is black\n",
    "grayscaled = cv2.cvtColor(img, cv2.COLOR_BGR2GRAY)\n",
    "retval2, threshold2 = cv2.threshold(grayscaled, 12, 255, cv2.THRESH_BINARY)  # anything below 12 is black\n",
    "\n",
    "gaus = cv2.adaptiveThreshold(grayscaled, 255, cv2.ADAPTIVE_THRESH_GAUSSIAN_C, cv2.THRESH_BINARY, 115, 1)  # apply adaptive threshold\n",
    "\n",
    "cv2.imshow('original',img)\n",
    "cv2.imshow('threshold', threshold)\n",
    "cv2.imshow('grayscale',grayscaled)\n",
    "cv2.imshow('threshold2', threshold2)  # it's impossible to read the grayscaled threshold\n",
    "cv2.imshow('gaus_threshold', gaus)\n",
    "cv2.waitKey(0)\n",
    "cv2.destroyAllWindows()\n"
   ]
  }
 ],
 "metadata": {
  "kernelspec": {
   "display_name": "Python 3",
   "language": "python",
   "name": "python3"
  },
  "language_info": {
   "codemirror_mode": {
    "name": "ipython",
    "version": 3
   },
   "file_extension": ".py",
   "mimetype": "text/x-python",
   "name": "python",
   "nbconvert_exporter": "python",
   "pygments_lexer": "ipython3",
   "version": "3.6.7"
  }
 },
 "nbformat": 4,
 "nbformat_minor": 2
}
