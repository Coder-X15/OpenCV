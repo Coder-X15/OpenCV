{
 "cells": [
  {
   "cell_type": "markdown",
   "metadata": {},
   "source": [
    "# Drawing and Writing On Images\n",
    "## loading an image"
   ]
  },
  {
   "cell_type": "code",
   "execution_count": 5,
   "metadata": {},
   "outputs": [],
   "source": [
    "import numpy as np\n",
    "import cv2\n",
    "\n",
    "img = cv2.imread('car.jpg', cv2.IMREAD_COLOR)\n"
   ]
  },
  {
   "cell_type": "markdown",
   "metadata": {},
   "source": [
    "## Constants Definitions"
   ]
  },
  {
   "cell_type": "code",
   "execution_count": 6,
   "metadata": {},
   "outputs": [],
   "source": [
    "top = (50, 50)\n",
    "bottom = (800, 500)\n",
    "\n",
    "width = 15\n",
    "center = (100, 63)\n",
    "radius = 55\n",
    "\n",
    "# colors\n",
    "white = (255, 255, 255)\n",
    "yellow = (0, 255, 255)\n",
    "blue = (0, 0, 255)\n",
    "red = (255, 0, 0)\n",
    "green = (0, 255, 0)\n",
    "\n",
    "pts = np.array([[10, 5], [20, 30], [70, 20], [50, 10]], np.int32)\n",
    "# pts = pts.reshape((-1, 1, 2))  # if required, reshape the array to 1x2\n",
    "\n",
    "\n",
    "font = cv2.FONT_HERSHEY_SIMPLEX  # load font\n",
    "font_size = 1\n",
    "thickness = 2"
   ]
  },
  {
   "cell_type": "markdown",
   "metadata": {},
   "source": [
    "## Draw on image"
   ]
  },
  {
   "cell_type": "code",
   "execution_count": null,
   "metadata": {},
   "outputs": [],
   "source": [
    "\"\"\" Line \"\"\"\n",
    "cv2.line(img, top, bottom, white, width)  # draw a white line from (0,0) to (150,150) with 15 width\n",
    "\n",
    "\"\"\" Rectangle \"\"\"\n",
    "cv2.rectangle(img, top, bottom, red, width)  # draw a rectangle\n",
    "\n",
    "\"\"\" Circle \"\"\"\n",
    "cv2.circle(img, center, radius, blue, -1)  # draw a circle, fill it with color (minus width)\n",
    "\n",
    "\"\"\" Polylines \"\"\"\n",
    "cv2.polylines(img, [pts], True, yellow, 3)  # True = connect final point to first point\n",
    "\n",
    "\"\"\" Write Text \"\"\"\n",
    "cv2.putText(img, 'openCV Tuts!', (500, 130), font, font_size, green, thickness, cv2.LINE_AA)  # draw the text\n",
    "\n",
    "\n",
    "cv2.imshow('image', img)\n",
    "cv2.waitKey(0)\n",
    "cv2.destroyAllWindows()"
   ]
  }
 ],
 "metadata": {
  "kernelspec": {
   "display_name": "Python 3",
   "language": "python",
   "name": "python3"
  },
  "language_info": {
   "codemirror_mode": {
    "name": "ipython",
    "version": 3
   },
   "file_extension": ".py",
   "mimetype": "text/x-python",
   "name": "python",
   "nbconvert_exporter": "python",
   "pygments_lexer": "ipython3",
   "version": "3.6.7"
  }
 },
 "nbformat": 4,
 "nbformat_minor": 2
}
