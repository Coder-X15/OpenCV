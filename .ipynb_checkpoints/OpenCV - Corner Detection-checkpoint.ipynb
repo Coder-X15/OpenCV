{
 "cells": [
  {
   "cell_type": "code",
   "execution_count": 1,
   "metadata": {},
   "outputs": [],
   "source": [
    "import numpy as np\n",
    "import cv2"
   ]
  },
  {
   "cell_type": "markdown",
   "metadata": {},
   "source": [
    "## Corner Detection on an Image"
   ]
  },
  {
   "cell_type": "code",
   "execution_count": null,
   "metadata": {},
   "outputs": [],
   "source": [
    "img = cv2.imread('opencv-corner-detection-sample.jpg')\n",
    "gray = cv2.cvtColor(img, cv2.COLOR_BGR2GRAY)\n",
    "gray = np.float32(gray)  # convert the gray colors to 32bits for the corner detection algorithm\n",
    "\n",
    "corners = cv2.goodFeaturesToTrack(gray, 1000, 0.01, 10)  # img, how many, quality, minimum distance between alias\n",
    "corners = np.int0(corners)  # convert corners from floats to ints\n",
    "\n",
    "for corner in corners:\n",
    "    x, y = corner.ravel()\n",
    "    cv2.circle(img, (x, y), 3, 255, -1)\n",
    "    \n",
    "cv2.imshow('Corners', img)\n",
    "cv2.waitKey(0)\n",
    "cv2.destroyAllWindows()"
   ]
  },
  {
   "cell_type": "markdown",
   "metadata": {},
   "source": [
    "## Corner Detection on Camera Video"
   ]
  },
  {
   "cell_type": "code",
   "execution_count": 7,
   "metadata": {},
   "outputs": [],
   "source": [
    "cap = cv2.VideoCapture(0)\n",
    "\n",
    "while True:\n",
    "    _, frame = cap.read()\n",
    "    \n",
    "    gray = cv2.cvtColor(frame, cv2.COLOR_BGR2GRAY)\n",
    "\n",
    "    corners = cv2.goodFeaturesToTrack(gray, 1000, 0.01, 10)  # img, how many, quality, minimum distance between alias\n",
    "    corners = np.int0(corners)  # convert corners from floats to ints\n",
    "\n",
    "    for corner in corners:\n",
    "        x, y = corner.ravel()\n",
    "        cv2.circle(gray, (x, y), 3, 255, -1)\n",
    "\n",
    "    cv2.imshow('Original', frame)\n",
    "    cv2.imshow('Corners', gray)\n",
    "    \n",
    "    k = cv2.waitKey(5) & 0xFF\n",
    "    if k == 27: \n",
    "        # escape key\n",
    "        break\n",
    "        \n",
    "cv2.destroyAllWindows()\n",
    "cap.release()\n"
   ]
  }
 ],
 "metadata": {
  "kernelspec": {
   "display_name": "Python 3",
   "language": "python",
   "name": "python3"
  },
  "language_info": {
   "codemirror_mode": {
    "name": "ipython",
    "version": 3
   },
   "file_extension": ".py",
   "mimetype": "text/x-python",
   "name": "python",
   "nbconvert_exporter": "python",
   "pygments_lexer": "ipython3",
   "version": "3.6.7"
  }
 },
 "nbformat": 4,
 "nbformat_minor": 2
}
