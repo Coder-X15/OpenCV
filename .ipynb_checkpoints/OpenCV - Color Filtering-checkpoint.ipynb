{
 "cells": [
  {
   "cell_type": "code",
   "execution_count": 2,
   "metadata": {},
   "outputs": [],
   "source": [
    "import cv2\n",
    "import numpy as np\n",
    "\n",
    "cap = cv2.VideoCapture(0)  # capture the default webcam\n",
    "\n",
    "\n",
    "while True:\n",
    "    _, frame = cap.read()\n",
    "    hsv = cv2.cvtColor(frame, cv2.COLOR_BGR2HSV)  # convert the color to HSV format\n",
    "    \n",
    "    \"\"\" Red lies in a region where a single mask won't do\"\"\"\n",
    "    lower_red = np.array([160, 100, 100])\n",
    "    upper_red = np.array([180, 255, 255])\n",
    "    mask1 = cv2.inRange(hsv, lower_red, upper_red)  # take everything within these limits\n",
    "    \n",
    "    lower_red = np.array([0, 100, 100])\n",
    "    upper_red = np.array([10, 255, 255])\n",
    "    mask2 = cv2.inRange(hsv, lower_red, upper_red)  # take everything within these limits\n",
    "    \n",
    "    red_mask = cv2.bitwise_or(mask1, mask2)  # combine the masks\n",
    "    \n",
    "    \"\"\" Green \"\"\"\n",
    "    sensitivity = 15\n",
    "    lower_green = np.array([60 - sensitivity, 100, 100])\n",
    "    upper_green = np.array([60 + sensitivity, 255, 255])\n",
    "    \n",
    "    green_mask = cv2.inRange(hsv, lower_green, upper_green)\n",
    "    \n",
    "    \"\"\" Blue \"\"\"\n",
    "#     lower_blue = np.array([110, 50, 50])\n",
    "#     upper_blue = np.array([130, 255, 255])\n",
    "    lower_blue = np.array([100, 50, 50])\n",
    "    upper_blue = np.array([120, 255, 255])\n",
    "    \n",
    "    blue_mask = cv2.inRange(hsv, lower_blue, upper_blue)\n",
    "    \n",
    "    # select a mask:\n",
    "#     mask = cv2.bitwise_or(red_mask, blue_mask)  # capturing spiderman\n",
    "#     mask = blue_mask\n",
    "    mask = green_mask\n",
    "    \n",
    "    res = cv2.bitwise_and(frame, frame, mask=mask)  # take anything in the frame where the mask is True (in the range)\n",
    "    \n",
    "    cv2.imshow('frame', frame)\n",
    "    cv2.imshow('red_mask', red_mask)\n",
    "    cv2.imshow('green_mask', green_mask)\n",
    "    cv2.imshow('blue_mask', blue_mask)\n",
    "    cv2.imshow('result', res)\n",
    "    \n",
    "    if cv2.waitKey(1) & 0xFF == ord('q'):\n",
    "        break\n",
    "        \n",
    "cv2.destroyAllWindows()\n",
    "cap.release()\n",
    "    "
   ]
  },
  {
   "cell_type": "code",
   "execution_count": null,
   "metadata": {},
   "outputs": [],
   "source": []
  }
 ],
 "metadata": {
  "kernelspec": {
   "display_name": "Python 3",
   "language": "python",
   "name": "python3"
  },
  "language_info": {
   "codemirror_mode": {
    "name": "ipython",
    "version": 3
   },
   "file_extension": ".py",
   "mimetype": "text/x-python",
   "name": "python",
   "nbconvert_exporter": "python",
   "pygments_lexer": "ipython3",
   "version": "3.6.7"
  }
 },
 "nbformat": 4,
 "nbformat_minor": 2
}
